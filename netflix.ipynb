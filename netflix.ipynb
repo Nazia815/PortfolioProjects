{
 "cells": [
  {
   "cell_type": "markdown",
   "id": "73570568",
   "metadata": {
    "papermill": {
     "duration": 0.011462,
     "end_time": "2022-08-13T19:12:08.117712",
     "exception": false,
     "start_time": "2022-08-13T19:12:08.106250",
     "status": "completed"
    },
    "tags": []
   },
   "source": [
    "About this Dataset: Netflix is one of the most popular media and video streaming platforms. They have over 8000 movies or tv shows available on their platform, as of mid-2021, they have over 200M Subscribers globally. This tabular dataset consists of listings of all the movies and tv shows available on Netflix, along with details such as - cast, directors, ratings, release year, duration, etc."
   ]
  },
  {
   "cell_type": "code",
   "execution_count": 1,
   "id": "e4a3ae28",
   "metadata": {
    "_execution_state": "idle",
    "_uuid": "051d70d956493feee0c6d64651c6a088724dca2a",
    "execution": {
     "iopub.execute_input": "2022-08-13T19:12:08.139390Z",
     "iopub.status.busy": "2022-08-13T19:12:08.138653Z",
     "iopub.status.idle": "2022-08-13T19:12:09.213884Z",
     "shell.execute_reply": "2022-08-13T19:12:09.213064Z"
    },
    "papermill": {
     "duration": 1.089283,
     "end_time": "2022-08-13T19:12:09.216778",
     "exception": false,
     "start_time": "2022-08-13T19:12:08.127495",
     "status": "completed"
    },
    "tags": []
   },
   "outputs": [],
   "source": [
    "#importing necessar\n",
    "import pandas as pd\n",
    "import numpy as np\n",
    "import matplotlib.pyplot as plt\n",
    "import collections\n",
    "import seaborn as sns\n",
    "\n"
   ]
  },
  {
   "cell_type": "code",
   "execution_count": 2,
   "id": "04487cfc",
   "metadata": {
    "execution": {
     "iopub.execute_input": "2022-08-13T19:12:09.239032Z",
     "iopub.status.busy": "2022-08-13T19:12:09.238635Z",
     "iopub.status.idle": "2022-08-13T19:12:09.418129Z",
     "shell.execute_reply": "2022-08-13T19:12:09.416935Z"
    },
    "papermill": {
     "duration": 0.194225,
     "end_time": "2022-08-13T19:12:09.421448",
     "exception": false,
     "start_time": "2022-08-13T19:12:09.227223",
     "status": "completed"
    },
    "tags": []
   },
   "outputs": [
    {
     "data": {
      "text/html": [
       "<div>\n",
       "<style scoped>\n",
       "    .dataframe tbody tr th:only-of-type {\n",
       "        vertical-align: middle;\n",
       "    }\n",
       "\n",
       "    .dataframe tbody tr th {\n",
       "        vertical-align: top;\n",
       "    }\n",
       "\n",
       "    .dataframe thead th {\n",
       "        text-align: right;\n",
       "    }\n",
       "</style>\n",
       "<table border=\"1\" class=\"dataframe\">\n",
       "  <thead>\n",
       "    <tr style=\"text-align: right;\">\n",
       "      <th></th>\n",
       "      <th>show_id</th>\n",
       "      <th>type</th>\n",
       "      <th>title</th>\n",
       "      <th>director</th>\n",
       "      <th>cast</th>\n",
       "      <th>country</th>\n",
       "      <th>date_added</th>\n",
       "      <th>release_year</th>\n",
       "      <th>rating</th>\n",
       "      <th>duration</th>\n",
       "      <th>listed_in</th>\n",
       "      <th>description</th>\n",
       "    </tr>\n",
       "  </thead>\n",
       "  <tbody>\n",
       "    <tr>\n",
       "      <th>0</th>\n",
       "      <td>s1</td>\n",
       "      <td>Movie</td>\n",
       "      <td>Dick Johnson Is Dead</td>\n",
       "      <td>Kirsten Johnson</td>\n",
       "      <td>NaN</td>\n",
       "      <td>United States</td>\n",
       "      <td>September 25, 2021</td>\n",
       "      <td>2020</td>\n",
       "      <td>PG-13</td>\n",
       "      <td>90 min</td>\n",
       "      <td>Documentaries</td>\n",
       "      <td>As her father nears the end of his life, filmm...</td>\n",
       "    </tr>\n",
       "    <tr>\n",
       "      <th>1</th>\n",
       "      <td>s2</td>\n",
       "      <td>TV Show</td>\n",
       "      <td>Blood &amp; Water</td>\n",
       "      <td>NaN</td>\n",
       "      <td>Ama Qamata, Khosi Ngema, Gail Mabalane, Thaban...</td>\n",
       "      <td>South Africa</td>\n",
       "      <td>September 24, 2021</td>\n",
       "      <td>2021</td>\n",
       "      <td>TV-MA</td>\n",
       "      <td>2 Seasons</td>\n",
       "      <td>International TV Shows, TV Dramas, TV Mysteries</td>\n",
       "      <td>After crossing paths at a party, a Cape Town t...</td>\n",
       "    </tr>\n",
       "    <tr>\n",
       "      <th>2</th>\n",
       "      <td>s3</td>\n",
       "      <td>TV Show</td>\n",
       "      <td>Ganglands</td>\n",
       "      <td>Julien Leclercq</td>\n",
       "      <td>Sami Bouajila, Tracy Gotoas, Samuel Jouy, Nabi...</td>\n",
       "      <td>NaN</td>\n",
       "      <td>September 24, 2021</td>\n",
       "      <td>2021</td>\n",
       "      <td>TV-MA</td>\n",
       "      <td>1 Season</td>\n",
       "      <td>Crime TV Shows, International TV Shows, TV Act...</td>\n",
       "      <td>To protect his family from a powerful drug lor...</td>\n",
       "    </tr>\n",
       "    <tr>\n",
       "      <th>3</th>\n",
       "      <td>s4</td>\n",
       "      <td>TV Show</td>\n",
       "      <td>Jailbirds New Orleans</td>\n",
       "      <td>NaN</td>\n",
       "      <td>NaN</td>\n",
       "      <td>NaN</td>\n",
       "      <td>September 24, 2021</td>\n",
       "      <td>2021</td>\n",
       "      <td>TV-MA</td>\n",
       "      <td>1 Season</td>\n",
       "      <td>Docuseries, Reality TV</td>\n",
       "      <td>Feuds, flirtations and toilet talk go down amo...</td>\n",
       "    </tr>\n",
       "    <tr>\n",
       "      <th>4</th>\n",
       "      <td>s5</td>\n",
       "      <td>TV Show</td>\n",
       "      <td>Kota Factory</td>\n",
       "      <td>NaN</td>\n",
       "      <td>Mayur More, Jitendra Kumar, Ranjan Raj, Alam K...</td>\n",
       "      <td>India</td>\n",
       "      <td>September 24, 2021</td>\n",
       "      <td>2021</td>\n",
       "      <td>TV-MA</td>\n",
       "      <td>2 Seasons</td>\n",
       "      <td>International TV Shows, Romantic TV Shows, TV ...</td>\n",
       "      <td>In a city of coaching centers known to train I...</td>\n",
       "    </tr>\n",
       "  </tbody>\n",
       "</table>\n",
       "</div>"
      ],
      "text/plain": [
       "  show_id     type                  title         director  \\\n",
       "0      s1    Movie   Dick Johnson Is Dead  Kirsten Johnson   \n",
       "1      s2  TV Show          Blood & Water              NaN   \n",
       "2      s3  TV Show              Ganglands  Julien Leclercq   \n",
       "3      s4  TV Show  Jailbirds New Orleans              NaN   \n",
       "4      s5  TV Show           Kota Factory              NaN   \n",
       "\n",
       "                                                cast        country  \\\n",
       "0                                                NaN  United States   \n",
       "1  Ama Qamata, Khosi Ngema, Gail Mabalane, Thaban...   South Africa   \n",
       "2  Sami Bouajila, Tracy Gotoas, Samuel Jouy, Nabi...            NaN   \n",
       "3                                                NaN            NaN   \n",
       "4  Mayur More, Jitendra Kumar, Ranjan Raj, Alam K...          India   \n",
       "\n",
       "           date_added  release_year rating   duration  \\\n",
       "0  September 25, 2021          2020  PG-13     90 min   \n",
       "1  September 24, 2021          2021  TV-MA  2 Seasons   \n",
       "2  September 24, 2021          2021  TV-MA   1 Season   \n",
       "3  September 24, 2021          2021  TV-MA   1 Season   \n",
       "4  September 24, 2021          2021  TV-MA  2 Seasons   \n",
       "\n",
       "                                           listed_in  \\\n",
       "0                                      Documentaries   \n",
       "1    International TV Shows, TV Dramas, TV Mysteries   \n",
       "2  Crime TV Shows, International TV Shows, TV Act...   \n",
       "3                             Docuseries, Reality TV   \n",
       "4  International TV Shows, Romantic TV Shows, TV ...   \n",
       "\n",
       "                                         description  \n",
       "0  As her father nears the end of his life, filmm...  \n",
       "1  After crossing paths at a party, a Cape Town t...  \n",
       "2  To protect his family from a powerful drug lor...  \n",
       "3  Feuds, flirtations and toilet talk go down amo...  \n",
       "4  In a city of coaching centers known to train I...  "
      ]
     },
     "execution_count": 2,
     "metadata": {},
     "output_type": "execute_result"
    }
   ],
   "source": [
    "#importing the dataset\n",
    "df = pd.read_csv(\"../input/netflix-shows/netflix_titles.csv\")\n",
    "df.head()\n"
   ]
  },
  {
   "cell_type": "code",
   "execution_count": 3,
   "id": "ebf3bd3d",
   "metadata": {
    "execution": {
     "iopub.execute_input": "2022-08-13T19:12:09.445525Z",
     "iopub.status.busy": "2022-08-13T19:12:09.444366Z",
     "iopub.status.idle": "2022-08-13T19:12:09.452354Z",
     "shell.execute_reply": "2022-08-13T19:12:09.451239Z"
    },
    "papermill": {
     "duration": 0.021685,
     "end_time": "2022-08-13T19:12:09.454636",
     "exception": false,
     "start_time": "2022-08-13T19:12:09.432951",
     "status": "completed"
    },
    "tags": []
   },
   "outputs": [
    {
     "data": {
      "text/plain": [
       "(8807, 12)"
      ]
     },
     "execution_count": 3,
     "metadata": {},
     "output_type": "execute_result"
    }
   ],
   "source": [
    "df.shape   #to get the dimension of an array"
   ]
  },
  {
   "cell_type": "code",
   "execution_count": 4,
   "id": "e2014577",
   "metadata": {
    "execution": {
     "iopub.execute_input": "2022-08-13T19:12:09.477229Z",
     "iopub.status.busy": "2022-08-13T19:12:09.476485Z",
     "iopub.status.idle": "2022-08-13T19:12:09.506700Z",
     "shell.execute_reply": "2022-08-13T19:12:09.505546Z"
    },
    "papermill": {
     "duration": 0.044392,
     "end_time": "2022-08-13T19:12:09.509328",
     "exception": false,
     "start_time": "2022-08-13T19:12:09.464936",
     "status": "completed"
    },
    "tags": []
   },
   "outputs": [
    {
     "data": {
      "text/html": [
       "<div>\n",
       "<style scoped>\n",
       "    .dataframe tbody tr th:only-of-type {\n",
       "        vertical-align: middle;\n",
       "    }\n",
       "\n",
       "    .dataframe tbody tr th {\n",
       "        vertical-align: top;\n",
       "    }\n",
       "\n",
       "    .dataframe thead th {\n",
       "        text-align: right;\n",
       "    }\n",
       "</style>\n",
       "<table border=\"1\" class=\"dataframe\">\n",
       "  <thead>\n",
       "    <tr style=\"text-align: right;\">\n",
       "      <th></th>\n",
       "      <th>index</th>\n",
       "      <th>show_id</th>\n",
       "      <th>type</th>\n",
       "      <th>title</th>\n",
       "      <th>director</th>\n",
       "      <th>cast</th>\n",
       "      <th>country</th>\n",
       "      <th>date_added</th>\n",
       "      <th>release_year</th>\n",
       "      <th>rating</th>\n",
       "      <th>duration</th>\n",
       "      <th>listed_in</th>\n",
       "      <th>description</th>\n",
       "    </tr>\n",
       "  </thead>\n",
       "  <tbody>\n",
       "    <tr>\n",
       "      <th>0</th>\n",
       "      <td>0</td>\n",
       "      <td>s1</td>\n",
       "      <td>Movie</td>\n",
       "      <td>Dick Johnson Is Dead</td>\n",
       "      <td>Kirsten Johnson</td>\n",
       "      <td>NaN</td>\n",
       "      <td>United States</td>\n",
       "      <td>September 25, 2021</td>\n",
       "      <td>2020</td>\n",
       "      <td>PG-13</td>\n",
       "      <td>90 min</td>\n",
       "      <td>Documentaries</td>\n",
       "      <td>As her father nears the end of his life, filmm...</td>\n",
       "    </tr>\n",
       "    <tr>\n",
       "      <th>1</th>\n",
       "      <td>1</td>\n",
       "      <td>s7</td>\n",
       "      <td>Movie</td>\n",
       "      <td>My Little Pony: A New Generation</td>\n",
       "      <td>Robert Cullen, José Luis Ucha</td>\n",
       "      <td>Vanessa Hudgens, Kimiko Glenn, James Marsden, ...</td>\n",
       "      <td>NaN</td>\n",
       "      <td>September 24, 2021</td>\n",
       "      <td>2021</td>\n",
       "      <td>PG</td>\n",
       "      <td>91 min</td>\n",
       "      <td>Children &amp; Family Movies</td>\n",
       "      <td>Equestria's divided. But a bright-eyed hero be...</td>\n",
       "    </tr>\n",
       "    <tr>\n",
       "      <th>2</th>\n",
       "      <td>2</td>\n",
       "      <td>s8</td>\n",
       "      <td>Movie</td>\n",
       "      <td>Sankofa</td>\n",
       "      <td>Haile Gerima</td>\n",
       "      <td>Kofi Ghanaba, Oyafunmike Ogunlano, Alexandra D...</td>\n",
       "      <td>United States, Ghana, Burkina Faso, United Kin...</td>\n",
       "      <td>September 24, 2021</td>\n",
       "      <td>1993</td>\n",
       "      <td>TV-MA</td>\n",
       "      <td>125 min</td>\n",
       "      <td>Dramas, Independent Movies, International Movies</td>\n",
       "      <td>On a photo shoot in Ghana, an American model s...</td>\n",
       "    </tr>\n",
       "    <tr>\n",
       "      <th>3</th>\n",
       "      <td>3</td>\n",
       "      <td>s10</td>\n",
       "      <td>Movie</td>\n",
       "      <td>The Starling</td>\n",
       "      <td>Theodore Melfi</td>\n",
       "      <td>Melissa McCarthy, Chris O'Dowd, Kevin Kline, T...</td>\n",
       "      <td>United States</td>\n",
       "      <td>September 24, 2021</td>\n",
       "      <td>2021</td>\n",
       "      <td>PG-13</td>\n",
       "      <td>104 min</td>\n",
       "      <td>Comedies, Dramas</td>\n",
       "      <td>A woman adjusting to life after a loss contend...</td>\n",
       "    </tr>\n",
       "    <tr>\n",
       "      <th>4</th>\n",
       "      <td>4</td>\n",
       "      <td>s13</td>\n",
       "      <td>Movie</td>\n",
       "      <td>Je Suis Karl</td>\n",
       "      <td>Christian Schwochow</td>\n",
       "      <td>Luna Wedler, Jannis Niewöhner, Milan Peschel, ...</td>\n",
       "      <td>Germany, Czech Republic</td>\n",
       "      <td>September 23, 2021</td>\n",
       "      <td>2021</td>\n",
       "      <td>TV-MA</td>\n",
       "      <td>127 min</td>\n",
       "      <td>Dramas, International Movies</td>\n",
       "      <td>After most of her family is murdered in a terr...</td>\n",
       "    </tr>\n",
       "  </tbody>\n",
       "</table>\n",
       "</div>"
      ],
      "text/plain": [
       "   index show_id   type                             title  \\\n",
       "0      0      s1  Movie              Dick Johnson Is Dead   \n",
       "1      1      s7  Movie  My Little Pony: A New Generation   \n",
       "2      2      s8  Movie                           Sankofa   \n",
       "3      3     s10  Movie                      The Starling   \n",
       "4      4     s13  Movie                      Je Suis Karl   \n",
       "\n",
       "                        director  \\\n",
       "0                Kirsten Johnson   \n",
       "1  Robert Cullen, José Luis Ucha   \n",
       "2                   Haile Gerima   \n",
       "3                 Theodore Melfi   \n",
       "4            Christian Schwochow   \n",
       "\n",
       "                                                cast  \\\n",
       "0                                                NaN   \n",
       "1  Vanessa Hudgens, Kimiko Glenn, James Marsden, ...   \n",
       "2  Kofi Ghanaba, Oyafunmike Ogunlano, Alexandra D...   \n",
       "3  Melissa McCarthy, Chris O'Dowd, Kevin Kline, T...   \n",
       "4  Luna Wedler, Jannis Niewöhner, Milan Peschel, ...   \n",
       "\n",
       "                                             country          date_added  \\\n",
       "0                                      United States  September 25, 2021   \n",
       "1                                                NaN  September 24, 2021   \n",
       "2  United States, Ghana, Burkina Faso, United Kin...  September 24, 2021   \n",
       "3                                      United States  September 24, 2021   \n",
       "4                            Germany, Czech Republic  September 23, 2021   \n",
       "\n",
       "   release_year rating duration  \\\n",
       "0          2020  PG-13   90 min   \n",
       "1          2021     PG   91 min   \n",
       "2          1993  TV-MA  125 min   \n",
       "3          2021  PG-13  104 min   \n",
       "4          2021  TV-MA  127 min   \n",
       "\n",
       "                                          listed_in  \\\n",
       "0                                     Documentaries   \n",
       "1                          Children & Family Movies   \n",
       "2  Dramas, Independent Movies, International Movies   \n",
       "3                                  Comedies, Dramas   \n",
       "4                      Dramas, International Movies   \n",
       "\n",
       "                                         description  \n",
       "0  As her father nears the end of his life, filmm...  \n",
       "1  Equestria's divided. But a bright-eyed hero be...  \n",
       "2  On a photo shoot in Ghana, an American model s...  \n",
       "3  A woman adjusting to life after a loss contend...  \n",
       "4  After most of her family is murdered in a terr...  "
      ]
     },
     "execution_count": 4,
     "metadata": {},
     "output_type": "execute_result"
    }
   ],
   "source": [
    "df_movies = df.loc[df['type'] == 'Movie'].reset_index() # extracting the rows which consist of movies\n",
    "df_movies['index'] = df_movies.index       \n",
    "df_movies.head()"
   ]
  },
  {
   "cell_type": "code",
   "execution_count": 5,
   "id": "3b6abd91",
   "metadata": {
    "execution": {
     "iopub.execute_input": "2022-08-13T19:12:09.533212Z",
     "iopub.status.busy": "2022-08-13T19:12:09.532584Z",
     "iopub.status.idle": "2022-08-13T19:12:09.539317Z",
     "shell.execute_reply": "2022-08-13T19:12:09.538326Z"
    },
    "papermill": {
     "duration": 0.021572,
     "end_time": "2022-08-13T19:12:09.541541",
     "exception": false,
     "start_time": "2022-08-13T19:12:09.519969",
     "status": "completed"
    },
    "tags": []
   },
   "outputs": [
    {
     "data": {
      "text/plain": [
       "(6131, 13)"
      ]
     },
     "execution_count": 5,
     "metadata": {},
     "output_type": "execute_result"
    }
   ],
   "source": [
    "df_movies.shape "
   ]
  },
  {
   "cell_type": "code",
   "execution_count": 6,
   "id": "18784ab1",
   "metadata": {
    "execution": {
     "iopub.execute_input": "2022-08-13T19:12:09.565059Z",
     "iopub.status.busy": "2022-08-13T19:12:09.564307Z",
     "iopub.status.idle": "2022-08-13T19:12:09.585346Z",
     "shell.execute_reply": "2022-08-13T19:12:09.584139Z"
    },
    "papermill": {
     "duration": 0.035811,
     "end_time": "2022-08-13T19:12:09.587828",
     "exception": false,
     "start_time": "2022-08-13T19:12:09.552017",
     "status": "completed"
    },
    "tags": []
   },
   "outputs": [
    {
     "data": {
      "text/html": [
       "<div>\n",
       "<style scoped>\n",
       "    .dataframe tbody tr th:only-of-type {\n",
       "        vertical-align: middle;\n",
       "    }\n",
       "\n",
       "    .dataframe tbody tr th {\n",
       "        vertical-align: top;\n",
       "    }\n",
       "\n",
       "    .dataframe thead th {\n",
       "        text-align: right;\n",
       "    }\n",
       "</style>\n",
       "<table border=\"1\" class=\"dataframe\">\n",
       "  <thead>\n",
       "    <tr style=\"text-align: right;\">\n",
       "      <th></th>\n",
       "      <th>index</th>\n",
       "      <th>show_id</th>\n",
       "      <th>type</th>\n",
       "      <th>title</th>\n",
       "      <th>director</th>\n",
       "      <th>cast</th>\n",
       "      <th>country</th>\n",
       "      <th>date_added</th>\n",
       "      <th>release_year</th>\n",
       "      <th>rating</th>\n",
       "      <th>duration</th>\n",
       "      <th>listed_in</th>\n",
       "      <th>description</th>\n",
       "    </tr>\n",
       "  </thead>\n",
       "  <tbody>\n",
       "    <tr>\n",
       "      <th>0</th>\n",
       "      <td>0</td>\n",
       "      <td>s2</td>\n",
       "      <td>TV Show</td>\n",
       "      <td>Blood &amp; Water</td>\n",
       "      <td>NaN</td>\n",
       "      <td>Ama Qamata, Khosi Ngema, Gail Mabalane, Thaban...</td>\n",
       "      <td>South Africa</td>\n",
       "      <td>September 24, 2021</td>\n",
       "      <td>2021</td>\n",
       "      <td>TV-MA</td>\n",
       "      <td>2 Seasons</td>\n",
       "      <td>International TV Shows, TV Dramas, TV Mysteries</td>\n",
       "      <td>After crossing paths at a party, a Cape Town t...</td>\n",
       "    </tr>\n",
       "    <tr>\n",
       "      <th>1</th>\n",
       "      <td>1</td>\n",
       "      <td>s3</td>\n",
       "      <td>TV Show</td>\n",
       "      <td>Ganglands</td>\n",
       "      <td>Julien Leclercq</td>\n",
       "      <td>Sami Bouajila, Tracy Gotoas, Samuel Jouy, Nabi...</td>\n",
       "      <td>NaN</td>\n",
       "      <td>September 24, 2021</td>\n",
       "      <td>2021</td>\n",
       "      <td>TV-MA</td>\n",
       "      <td>1 Season</td>\n",
       "      <td>Crime TV Shows, International TV Shows, TV Act...</td>\n",
       "      <td>To protect his family from a powerful drug lor...</td>\n",
       "    </tr>\n",
       "    <tr>\n",
       "      <th>2</th>\n",
       "      <td>2</td>\n",
       "      <td>s4</td>\n",
       "      <td>TV Show</td>\n",
       "      <td>Jailbirds New Orleans</td>\n",
       "      <td>NaN</td>\n",
       "      <td>NaN</td>\n",
       "      <td>NaN</td>\n",
       "      <td>September 24, 2021</td>\n",
       "      <td>2021</td>\n",
       "      <td>TV-MA</td>\n",
       "      <td>1 Season</td>\n",
       "      <td>Docuseries, Reality TV</td>\n",
       "      <td>Feuds, flirtations and toilet talk go down amo...</td>\n",
       "    </tr>\n",
       "    <tr>\n",
       "      <th>3</th>\n",
       "      <td>3</td>\n",
       "      <td>s5</td>\n",
       "      <td>TV Show</td>\n",
       "      <td>Kota Factory</td>\n",
       "      <td>NaN</td>\n",
       "      <td>Mayur More, Jitendra Kumar, Ranjan Raj, Alam K...</td>\n",
       "      <td>India</td>\n",
       "      <td>September 24, 2021</td>\n",
       "      <td>2021</td>\n",
       "      <td>TV-MA</td>\n",
       "      <td>2 Seasons</td>\n",
       "      <td>International TV Shows, Romantic TV Shows, TV ...</td>\n",
       "      <td>In a city of coaching centers known to train I...</td>\n",
       "    </tr>\n",
       "    <tr>\n",
       "      <th>4</th>\n",
       "      <td>4</td>\n",
       "      <td>s6</td>\n",
       "      <td>TV Show</td>\n",
       "      <td>Midnight Mass</td>\n",
       "      <td>Mike Flanagan</td>\n",
       "      <td>Kate Siegel, Zach Gilford, Hamish Linklater, H...</td>\n",
       "      <td>NaN</td>\n",
       "      <td>September 24, 2021</td>\n",
       "      <td>2021</td>\n",
       "      <td>TV-MA</td>\n",
       "      <td>1 Season</td>\n",
       "      <td>TV Dramas, TV Horror, TV Mysteries</td>\n",
       "      <td>The arrival of a charismatic young priest brin...</td>\n",
       "    </tr>\n",
       "  </tbody>\n",
       "</table>\n",
       "</div>"
      ],
      "text/plain": [
       "   index show_id     type                  title         director  \\\n",
       "0      0      s2  TV Show          Blood & Water              NaN   \n",
       "1      1      s3  TV Show              Ganglands  Julien Leclercq   \n",
       "2      2      s4  TV Show  Jailbirds New Orleans              NaN   \n",
       "3      3      s5  TV Show           Kota Factory              NaN   \n",
       "4      4      s6  TV Show          Midnight Mass    Mike Flanagan   \n",
       "\n",
       "                                                cast       country  \\\n",
       "0  Ama Qamata, Khosi Ngema, Gail Mabalane, Thaban...  South Africa   \n",
       "1  Sami Bouajila, Tracy Gotoas, Samuel Jouy, Nabi...           NaN   \n",
       "2                                                NaN           NaN   \n",
       "3  Mayur More, Jitendra Kumar, Ranjan Raj, Alam K...         India   \n",
       "4  Kate Siegel, Zach Gilford, Hamish Linklater, H...           NaN   \n",
       "\n",
       "           date_added  release_year rating   duration  \\\n",
       "0  September 24, 2021          2021  TV-MA  2 Seasons   \n",
       "1  September 24, 2021          2021  TV-MA   1 Season   \n",
       "2  September 24, 2021          2021  TV-MA   1 Season   \n",
       "3  September 24, 2021          2021  TV-MA  2 Seasons   \n",
       "4  September 24, 2021          2021  TV-MA   1 Season   \n",
       "\n",
       "                                           listed_in  \\\n",
       "0    International TV Shows, TV Dramas, TV Mysteries   \n",
       "1  Crime TV Shows, International TV Shows, TV Act...   \n",
       "2                             Docuseries, Reality TV   \n",
       "3  International TV Shows, Romantic TV Shows, TV ...   \n",
       "4                 TV Dramas, TV Horror, TV Mysteries   \n",
       "\n",
       "                                         description  \n",
       "0  After crossing paths at a party, a Cape Town t...  \n",
       "1  To protect his family from a powerful drug lor...  \n",
       "2  Feuds, flirtations and toilet talk go down amo...  \n",
       "3  In a city of coaching centers known to train I...  \n",
       "4  The arrival of a charismatic young priest brin...  "
      ]
     },
     "execution_count": 6,
     "metadata": {},
     "output_type": "execute_result"
    }
   ],
   "source": [
    "df_shows = df.loc[df['type'] == 'TV Show'].reset_index() # extracting the rows which consist of TV show\n",
    "df_shows['index'] = df_shows.index       \n",
    "df_shows.head()"
   ]
  },
  {
   "cell_type": "code",
   "execution_count": 7,
   "id": "48112437",
   "metadata": {
    "execution": {
     "iopub.execute_input": "2022-08-13T19:12:09.620791Z",
     "iopub.status.busy": "2022-08-13T19:12:09.619732Z",
     "iopub.status.idle": "2022-08-13T19:12:09.658254Z",
     "shell.execute_reply": "2022-08-13T19:12:09.656830Z"
    },
    "papermill": {
     "duration": 0.062998,
     "end_time": "2022-08-13T19:12:09.661709",
     "exception": false,
     "start_time": "2022-08-13T19:12:09.598711",
     "status": "completed"
    },
    "tags": []
   },
   "outputs": [
    {
     "name": "stdout",
     "output_type": "stream",
     "text": [
      "0\n",
      "0\n"
     ]
    }
   ],
   "source": [
    "# now we will check if there is any duplicate items in both the dataframes\n",
    "\n",
    "print(df_movies.duplicated().sum())\n",
    "print(df_shows.duplicated().sum())   "
   ]
  },
  {
   "cell_type": "markdown",
   "id": "15fbdd34",
   "metadata": {
    "papermill": {
     "duration": 0.016549,
     "end_time": "2022-08-13T19:12:09.694703",
     "exception": false,
     "start_time": "2022-08-13T19:12:09.678154",
     "status": "completed"
    },
    "tags": []
   },
   "source": [
    "As we can see there is no duplicate values in both the data frames"
   ]
  },
  {
   "cell_type": "code",
   "execution_count": 8,
   "id": "45185e78",
   "metadata": {
    "execution": {
     "iopub.execute_input": "2022-08-13T19:12:09.730648Z",
     "iopub.status.busy": "2022-08-13T19:12:09.730062Z",
     "iopub.status.idle": "2022-08-13T19:12:09.757724Z",
     "shell.execute_reply": "2022-08-13T19:12:09.755675Z"
    },
    "papermill": {
     "duration": 0.049071,
     "end_time": "2022-08-13T19:12:09.760129",
     "exception": false,
     "start_time": "2022-08-13T19:12:09.711058",
     "status": "completed"
    },
    "tags": []
   },
   "outputs": [
    {
     "name": "stdout",
     "output_type": "stream",
     "text": [
      "<class 'pandas.core.frame.DataFrame'>\n",
      "RangeIndex: 8807 entries, 0 to 8806\n",
      "Data columns (total 12 columns):\n",
      " #   Column        Non-Null Count  Dtype \n",
      "---  ------        --------------  ----- \n",
      " 0   show_id       8807 non-null   object\n",
      " 1   type          8807 non-null   object\n",
      " 2   title         8807 non-null   object\n",
      " 3   director      6173 non-null   object\n",
      " 4   cast          7982 non-null   object\n",
      " 5   country       7976 non-null   object\n",
      " 6   date_added    8797 non-null   object\n",
      " 7   release_year  8807 non-null   int64 \n",
      " 8   rating        8803 non-null   object\n",
      " 9   duration      8804 non-null   object\n",
      " 10  listed_in     8807 non-null   object\n",
      " 11  description   8807 non-null   object\n",
      "dtypes: int64(1), object(11)\n",
      "memory usage: 825.8+ KB\n"
     ]
    }
   ],
   "source": [
    "df.info() # shows us the count and data type of each colomun"
   ]
  },
  {
   "cell_type": "markdown",
   "id": "80ebae86",
   "metadata": {
    "papermill": {
     "duration": 0.010596,
     "end_time": "2022-08-13T19:12:09.781826",
     "exception": false,
     "start_time": "2022-08-13T19:12:09.771230",
     "status": "completed"
    },
    "tags": []
   },
   "source": [
    "We noticed that date_added variable should be of  datetime data type but it is object so we will convert this variable to datetime"
   ]
  },
  {
   "cell_type": "code",
   "execution_count": 9,
   "id": "cdb7cdd9",
   "metadata": {
    "execution": {
     "iopub.execute_input": "2022-08-13T19:12:09.806052Z",
     "iopub.status.busy": "2022-08-13T19:12:09.805323Z",
     "iopub.status.idle": "2022-08-13T19:12:10.013003Z",
     "shell.execute_reply": "2022-08-13T19:12:10.011663Z"
    },
    "papermill": {
     "duration": 0.224367,
     "end_time": "2022-08-13T19:12:10.017210",
     "exception": false,
     "start_time": "2022-08-13T19:12:09.792843",
     "status": "completed"
    },
    "tags": []
   },
   "outputs": [],
   "source": [
    "#convert date_added from object to datetime64\n",
    "\n",
    "df['date_added'] = pd.to_datetime(df['date_added'])"
   ]
  },
  {
   "cell_type": "markdown",
   "id": "88357c35",
   "metadata": {
    "papermill": {
     "duration": 0.011464,
     "end_time": "2022-08-13T19:12:10.046355",
     "exception": false,
     "start_time": "2022-08-13T19:12:10.034891",
     "status": "completed"
    },
    "tags": []
   },
   "source": [
    "Now we will again check the data type of each varibale to make sur our conversion is done."
   ]
  },
  {
   "cell_type": "code",
   "execution_count": 10,
   "id": "6e045967",
   "metadata": {
    "execution": {
     "iopub.execute_input": "2022-08-13T19:12:10.071023Z",
     "iopub.status.busy": "2022-08-13T19:12:10.070539Z",
     "iopub.status.idle": "2022-08-13T19:12:10.089800Z",
     "shell.execute_reply": "2022-08-13T19:12:10.088527Z"
    },
    "papermill": {
     "duration": 0.035548,
     "end_time": "2022-08-13T19:12:10.093244",
     "exception": false,
     "start_time": "2022-08-13T19:12:10.057696",
     "status": "completed"
    },
    "tags": []
   },
   "outputs": [
    {
     "name": "stdout",
     "output_type": "stream",
     "text": [
      "<class 'pandas.core.frame.DataFrame'>\n",
      "RangeIndex: 8807 entries, 0 to 8806\n",
      "Data columns (total 12 columns):\n",
      " #   Column        Non-Null Count  Dtype         \n",
      "---  ------        --------------  -----         \n",
      " 0   show_id       8807 non-null   object        \n",
      " 1   type          8807 non-null   object        \n",
      " 2   title         8807 non-null   object        \n",
      " 3   director      6173 non-null   object        \n",
      " 4   cast          7982 non-null   object        \n",
      " 5   country       7976 non-null   object        \n",
      " 6   date_added    8797 non-null   datetime64[ns]\n",
      " 7   release_year  8807 non-null   int64         \n",
      " 8   rating        8803 non-null   object        \n",
      " 9   duration      8804 non-null   object        \n",
      " 10  listed_in     8807 non-null   object        \n",
      " 11  description   8807 non-null   object        \n",
      "dtypes: datetime64[ns](1), int64(1), object(10)\n",
      "memory usage: 825.8+ KB\n"
     ]
    }
   ],
   "source": [
    "df.info()"
   ]
  },
  {
   "cell_type": "markdown",
   "id": "a3d1dac8",
   "metadata": {
    "papermill": {
     "duration": 0.011032,
     "end_time": "2022-08-13T19:12:10.116263",
     "exception": false,
     "start_time": "2022-08-13T19:12:10.105231",
     "status": "completed"
    },
    "tags": []
   },
   "source": [
    "As we can see the date_added variable is of datetime data type"
   ]
  },
  {
   "cell_type": "markdown",
   "id": "1c6c63ca",
   "metadata": {
    "papermill": {
     "duration": 0.010951,
     "end_time": "2022-08-13T19:12:10.138546",
     "exception": false,
     "start_time": "2022-08-13T19:12:10.127595",
     "status": "completed"
    },
    "tags": []
   },
   "source": [
    "*Checking missing Values*\n",
    "\n",
    "Now we will check if there are any missing values in our data frame so for that we will use python built in function to get the sum of all the missing values."
   ]
  },
  {
   "cell_type": "code",
   "execution_count": 11,
   "id": "cbc7006f",
   "metadata": {
    "execution": {
     "iopub.execute_input": "2022-08-13T19:12:10.163542Z",
     "iopub.status.busy": "2022-08-13T19:12:10.162681Z",
     "iopub.status.idle": "2022-08-13T19:12:10.177784Z",
     "shell.execute_reply": "2022-08-13T19:12:10.176973Z"
    },
    "papermill": {
     "duration": 0.030212,
     "end_time": "2022-08-13T19:12:10.179894",
     "exception": false,
     "start_time": "2022-08-13T19:12:10.149682",
     "status": "completed"
    },
    "tags": []
   },
   "outputs": [
    {
     "data": {
      "text/plain": [
       "show_id            0\n",
       "type               0\n",
       "title              0\n",
       "director        2634\n",
       "cast             825\n",
       "country          831\n",
       "date_added        10\n",
       "release_year       0\n",
       "rating             4\n",
       "duration           3\n",
       "listed_in          0\n",
       "description        0\n",
       "dtype: int64"
      ]
     },
     "execution_count": 11,
     "metadata": {},
     "output_type": "execute_result"
    }
   ],
   "source": [
    "\n",
    "df.isna().sum()  #will give the sum of missing values"
   ]
  },
  {
   "cell_type": "markdown",
   "id": "aef37dd5",
   "metadata": {
    "papermill": {
     "duration": 0.011115,
     "end_time": "2022-08-13T19:12:10.202468",
     "exception": false,
     "start_time": "2022-08-13T19:12:10.191353",
     "status": "completed"
    },
    "tags": []
   },
   "source": [
    "As we can see we have so many missing values in director ,cast ,country,date_added and ratings.\n",
    "so we will fill all these null values with a word \"unavailable\"except for release_year and duration that we will see later on.\n",
    "So, here I made a dictionary to replace all the null values with a word \"unavailable\" by using a function called fillna()."
   ]
  },
  {
   "cell_type": "code",
   "execution_count": 12,
   "id": "536f72d1",
   "metadata": {
    "execution": {
     "iopub.execute_input": "2022-08-13T19:12:10.227429Z",
     "iopub.status.busy": "2022-08-13T19:12:10.226623Z",
     "iopub.status.idle": "2022-08-13T19:12:10.245676Z",
     "shell.execute_reply": "2022-08-13T19:12:10.244511Z"
    },
    "papermill": {
     "duration": 0.034083,
     "end_time": "2022-08-13T19:12:10.247976",
     "exception": false,
     "start_time": "2022-08-13T19:12:10.213893",
     "status": "completed"
    },
    "tags": []
   },
   "outputs": [
    {
     "data": {
      "text/plain": [
       "show_id          0\n",
       "type             0\n",
       "title            0\n",
       "director         0\n",
       "cast             0\n",
       "country          0\n",
       "date_added      10\n",
       "release_year     0\n",
       "rating           0\n",
       "duration         3\n",
       "listed_in        0\n",
       "description      0\n",
       "dtype: int64"
      ]
     },
     "execution_count": 12,
     "metadata": {},
     "output_type": "execute_result"
    }
   ],
   "source": [
    "\n",
    "df.fillna({'rating' : 'unavailable', 'cast' : 'unavailable', 'country' : 'unavailavle', 'director':'unavailable'},inplace=True)\n",
    "\n",
    "df.isna().sum() "
   ]
  },
  {
   "cell_type": "markdown",
   "id": "6e201607",
   "metadata": {
    "papermill": {
     "duration": 0.011139,
     "end_time": "2022-08-13T19:12:10.270725",
     "exception": false,
     "start_time": "2022-08-13T19:12:10.259586",
     "status": "completed"
    },
    "tags": []
   },
   "source": [
    "Now we can see that there is no null value left in our data set except for the date_added and duration that we will see now."
   ]
  },
  {
   "cell_type": "markdown",
   "id": "de377e19",
   "metadata": {
    "papermill": {
     "duration": 0.011296,
     "end_time": "2022-08-13T19:12:10.294461",
     "exception": false,
     "start_time": "2022-08-13T19:12:10.283165",
     "status": "completed"
    },
    "tags": []
   },
   "source": [
    "So, we have 10 null values for date_added colomun, i have three options to deal with these 10 null values \n",
    "1-first we can delet all of them since they are only 10 so its not gonna affect our analysis\n",
    "2-Second we can fill all those entries manually by finding out the date_added.\n",
    "3-Third is we can fill the most recent date in all of them because netflix added content time to time.\n",
    "\n",
    "Here i am moving futher with our first option and using dropna() funnction to drop all the rows with null date_added."
   ]
  },
  {
   "cell_type": "code",
   "execution_count": 13,
   "id": "a31d0fb0",
   "metadata": {
    "execution": {
     "iopub.execute_input": "2022-08-13T19:12:10.319697Z",
     "iopub.status.busy": "2022-08-13T19:12:10.318648Z",
     "iopub.status.idle": "2022-08-13T19:12:10.328685Z",
     "shell.execute_reply": "2022-08-13T19:12:10.327645Z"
    },
    "papermill": {
     "duration": 0.025222,
     "end_time": "2022-08-13T19:12:10.331108",
     "exception": false,
     "start_time": "2022-08-13T19:12:10.305886",
     "status": "completed"
    },
    "tags": []
   },
   "outputs": [],
   "source": [
    "df.dropna(subset = ['date_added'],inplace = True)"
   ]
  },
  {
   "cell_type": "code",
   "execution_count": 14,
   "id": "0124c07c",
   "metadata": {
    "execution": {
     "iopub.execute_input": "2022-08-13T19:12:10.356683Z",
     "iopub.status.busy": "2022-08-13T19:12:10.356297Z",
     "iopub.status.idle": "2022-08-13T19:12:10.370676Z",
     "shell.execute_reply": "2022-08-13T19:12:10.369497Z"
    },
    "papermill": {
     "duration": 0.029893,
     "end_time": "2022-08-13T19:12:10.372940",
     "exception": false,
     "start_time": "2022-08-13T19:12:10.343047",
     "status": "completed"
    },
    "tags": []
   },
   "outputs": [
    {
     "data": {
      "text/plain": [
       "show_id         0\n",
       "type            0\n",
       "title           0\n",
       "director        0\n",
       "cast            0\n",
       "country         0\n",
       "date_added      0\n",
       "release_year    0\n",
       "rating          0\n",
       "duration        3\n",
       "listed_in       0\n",
       "description     0\n",
       "dtype: int64"
      ]
     },
     "execution_count": 14,
     "metadata": {},
     "output_type": "execute_result"
    }
   ],
   "source": [
    "df.isna().sum()"
   ]
  },
  {
   "cell_type": "markdown",
   "id": "3fae91bc",
   "metadata": {
    "papermill": {
     "duration": 0.011325,
     "end_time": "2022-08-13T19:12:10.396109",
     "exception": false,
     "start_time": "2022-08-13T19:12:10.384784",
     "status": "completed"
    },
    "tags": []
   },
   "source": [
    "As we can see now we have removed all the null values from date_added. now we will see null values from duration colomuns."
   ]
  },
  {
   "cell_type": "code",
   "execution_count": 15,
   "id": "06f92d3d",
   "metadata": {
    "execution": {
     "iopub.execute_input": "2022-08-13T19:12:10.421921Z",
     "iopub.status.busy": "2022-08-13T19:12:10.421069Z",
     "iopub.status.idle": "2022-08-13T19:12:10.441094Z",
     "shell.execute_reply": "2022-08-13T19:12:10.439925Z"
    },
    "papermill": {
     "duration": 0.035735,
     "end_time": "2022-08-13T19:12:10.443494",
     "exception": false,
     "start_time": "2022-08-13T19:12:10.407759",
     "status": "completed"
    },
    "tags": []
   },
   "outputs": [
    {
     "data": {
      "text/html": [
       "<div>\n",
       "<style scoped>\n",
       "    .dataframe tbody tr th:only-of-type {\n",
       "        vertical-align: middle;\n",
       "    }\n",
       "\n",
       "    .dataframe tbody tr th {\n",
       "        vertical-align: top;\n",
       "    }\n",
       "\n",
       "    .dataframe thead th {\n",
       "        text-align: right;\n",
       "    }\n",
       "</style>\n",
       "<table border=\"1\" class=\"dataframe\">\n",
       "  <thead>\n",
       "    <tr style=\"text-align: right;\">\n",
       "      <th></th>\n",
       "      <th>show_id</th>\n",
       "      <th>type</th>\n",
       "      <th>title</th>\n",
       "      <th>director</th>\n",
       "      <th>cast</th>\n",
       "      <th>country</th>\n",
       "      <th>date_added</th>\n",
       "      <th>release_year</th>\n",
       "      <th>rating</th>\n",
       "      <th>duration</th>\n",
       "      <th>listed_in</th>\n",
       "      <th>description</th>\n",
       "    </tr>\n",
       "  </thead>\n",
       "  <tbody>\n",
       "    <tr>\n",
       "      <th>5541</th>\n",
       "      <td>s5542</td>\n",
       "      <td>Movie</td>\n",
       "      <td>Louis C.K. 2017</td>\n",
       "      <td>Louis C.K.</td>\n",
       "      <td>Louis C.K.</td>\n",
       "      <td>United States</td>\n",
       "      <td>2017-04-04</td>\n",
       "      <td>2017</td>\n",
       "      <td>74 min</td>\n",
       "      <td>NaN</td>\n",
       "      <td>Movies</td>\n",
       "      <td>Louis C.K. muses on religion, eternal love, gi...</td>\n",
       "    </tr>\n",
       "    <tr>\n",
       "      <th>5794</th>\n",
       "      <td>s5795</td>\n",
       "      <td>Movie</td>\n",
       "      <td>Louis C.K.: Hilarious</td>\n",
       "      <td>Louis C.K.</td>\n",
       "      <td>Louis C.K.</td>\n",
       "      <td>United States</td>\n",
       "      <td>2016-09-16</td>\n",
       "      <td>2010</td>\n",
       "      <td>84 min</td>\n",
       "      <td>NaN</td>\n",
       "      <td>Movies</td>\n",
       "      <td>Emmy-winning comedy writer Louis C.K. brings h...</td>\n",
       "    </tr>\n",
       "    <tr>\n",
       "      <th>5813</th>\n",
       "      <td>s5814</td>\n",
       "      <td>Movie</td>\n",
       "      <td>Louis C.K.: Live at the Comedy Store</td>\n",
       "      <td>Louis C.K.</td>\n",
       "      <td>Louis C.K.</td>\n",
       "      <td>United States</td>\n",
       "      <td>2016-08-15</td>\n",
       "      <td>2015</td>\n",
       "      <td>66 min</td>\n",
       "      <td>NaN</td>\n",
       "      <td>Movies</td>\n",
       "      <td>The comic puts his trademark hilarious/thought...</td>\n",
       "    </tr>\n",
       "  </tbody>\n",
       "</table>\n",
       "</div>"
      ],
      "text/plain": [
       "     show_id   type                                 title    director  \\\n",
       "5541   s5542  Movie                       Louis C.K. 2017  Louis C.K.   \n",
       "5794   s5795  Movie                 Louis C.K.: Hilarious  Louis C.K.   \n",
       "5813   s5814  Movie  Louis C.K.: Live at the Comedy Store  Louis C.K.   \n",
       "\n",
       "            cast        country date_added  release_year  rating duration  \\\n",
       "5541  Louis C.K.  United States 2017-04-04          2017  74 min      NaN   \n",
       "5794  Louis C.K.  United States 2016-09-16          2010  84 min      NaN   \n",
       "5813  Louis C.K.  United States 2016-08-15          2015  66 min      NaN   \n",
       "\n",
       "     listed_in                                        description  \n",
       "5541    Movies  Louis C.K. muses on religion, eternal love, gi...  \n",
       "5794    Movies  Emmy-winning comedy writer Louis C.K. brings h...  \n",
       "5813    Movies  The comic puts his trademark hilarious/thought...  "
      ]
     },
     "execution_count": 15,
     "metadata": {},
     "output_type": "execute_result"
    }
   ],
   "source": [
    "df[df.duration.isnull()]"
   ]
  },
  {
   "cell_type": "markdown",
   "id": "9a0564b4",
   "metadata": {
    "papermill": {
     "duration": 0.011635,
     "end_time": "2022-08-13T19:12:10.466983",
     "exception": false,
     "start_time": "2022-08-13T19:12:10.455348",
     "status": "completed"
    },
    "tags": []
   },
   "source": [
    "Here we noticed two things intresting\n",
    "1- first is all the null values in duration are having same director which is Louis C.K.\n",
    "2- second is rating colomun seems to have mistakenly duration values this seems to have human error    so we will transfer these ratings values to the actual duration values."
   ]
  },
  {
   "cell_type": "markdown",
   "id": "95641d49",
   "metadata": {
    "papermill": {
     "duration": 0.011594,
     "end_time": "2022-08-13T19:12:10.490551",
     "exception": false,
     "start_time": "2022-08-13T19:12:10.478957",
     "status": "completed"
    },
    "tags": []
   },
   "source": [
    "So first we will check are there any other rows with director Louis C.K so that our conversion wont affect other rows containing same director Louis C.K"
   ]
  },
  {
   "cell_type": "code",
   "execution_count": 16,
   "id": "40d0d334",
   "metadata": {
    "execution": {
     "iopub.execute_input": "2022-08-13T19:12:10.517521Z",
     "iopub.status.busy": "2022-08-13T19:12:10.516756Z",
     "iopub.status.idle": "2022-08-13T19:12:10.535370Z",
     "shell.execute_reply": "2022-08-13T19:12:10.534311Z"
    },
    "papermill": {
     "duration": 0.034936,
     "end_time": "2022-08-13T19:12:10.537775",
     "exception": false,
     "start_time": "2022-08-13T19:12:10.502839",
     "status": "completed"
    },
    "tags": []
   },
   "outputs": [
    {
     "data": {
      "text/html": [
       "<div>\n",
       "<style scoped>\n",
       "    .dataframe tbody tr th:only-of-type {\n",
       "        vertical-align: middle;\n",
       "    }\n",
       "\n",
       "    .dataframe tbody tr th {\n",
       "        vertical-align: top;\n",
       "    }\n",
       "\n",
       "    .dataframe thead th {\n",
       "        text-align: right;\n",
       "    }\n",
       "</style>\n",
       "<table border=\"1\" class=\"dataframe\">\n",
       "  <thead>\n",
       "    <tr style=\"text-align: right;\">\n",
       "      <th></th>\n",
       "      <th>show_id</th>\n",
       "      <th>type</th>\n",
       "      <th>title</th>\n",
       "      <th>director</th>\n",
       "      <th>cast</th>\n",
       "      <th>country</th>\n",
       "      <th>date_added</th>\n",
       "      <th>release_year</th>\n",
       "      <th>rating</th>\n",
       "      <th>duration</th>\n",
       "      <th>listed_in</th>\n",
       "      <th>description</th>\n",
       "    </tr>\n",
       "  </thead>\n",
       "  <tbody>\n",
       "    <tr>\n",
       "      <th>5541</th>\n",
       "      <td>s5542</td>\n",
       "      <td>Movie</td>\n",
       "      <td>Louis C.K. 2017</td>\n",
       "      <td>Louis C.K.</td>\n",
       "      <td>Louis C.K.</td>\n",
       "      <td>United States</td>\n",
       "      <td>2017-04-04</td>\n",
       "      <td>2017</td>\n",
       "      <td>74 min</td>\n",
       "      <td>NaN</td>\n",
       "      <td>Movies</td>\n",
       "      <td>Louis C.K. muses on religion, eternal love, gi...</td>\n",
       "    </tr>\n",
       "    <tr>\n",
       "      <th>5794</th>\n",
       "      <td>s5795</td>\n",
       "      <td>Movie</td>\n",
       "      <td>Louis C.K.: Hilarious</td>\n",
       "      <td>Louis C.K.</td>\n",
       "      <td>Louis C.K.</td>\n",
       "      <td>United States</td>\n",
       "      <td>2016-09-16</td>\n",
       "      <td>2010</td>\n",
       "      <td>84 min</td>\n",
       "      <td>NaN</td>\n",
       "      <td>Movies</td>\n",
       "      <td>Emmy-winning comedy writer Louis C.K. brings h...</td>\n",
       "    </tr>\n",
       "    <tr>\n",
       "      <th>5813</th>\n",
       "      <td>s5814</td>\n",
       "      <td>Movie</td>\n",
       "      <td>Louis C.K.: Live at the Comedy Store</td>\n",
       "      <td>Louis C.K.</td>\n",
       "      <td>Louis C.K.</td>\n",
       "      <td>United States</td>\n",
       "      <td>2016-08-15</td>\n",
       "      <td>2015</td>\n",
       "      <td>66 min</td>\n",
       "      <td>NaN</td>\n",
       "      <td>Movies</td>\n",
       "      <td>The comic puts his trademark hilarious/thought...</td>\n",
       "    </tr>\n",
       "  </tbody>\n",
       "</table>\n",
       "</div>"
      ],
      "text/plain": [
       "     show_id   type                                 title    director  \\\n",
       "5541   s5542  Movie                       Louis C.K. 2017  Louis C.K.   \n",
       "5794   s5795  Movie                 Louis C.K.: Hilarious  Louis C.K.   \n",
       "5813   s5814  Movie  Louis C.K.: Live at the Comedy Store  Louis C.K.   \n",
       "\n",
       "            cast        country date_added  release_year  rating duration  \\\n",
       "5541  Louis C.K.  United States 2017-04-04          2017  74 min      NaN   \n",
       "5794  Louis C.K.  United States 2016-09-16          2010  84 min      NaN   \n",
       "5813  Louis C.K.  United States 2016-08-15          2015  66 min      NaN   \n",
       "\n",
       "     listed_in                                        description  \n",
       "5541    Movies  Louis C.K. muses on religion, eternal love, gi...  \n",
       "5794    Movies  Emmy-winning comedy writer Louis C.K. brings h...  \n",
       "5813    Movies  The comic puts his trademark hilarious/thought...  "
      ]
     },
     "execution_count": 16,
     "metadata": {},
     "output_type": "execute_result"
    }
   ],
   "source": [
    "df[df.director == 'Louis C.K.'].head()"
   ]
  },
  {
   "cell_type": "markdown",
   "id": "4e30539a",
   "metadata": {
    "papermill": {
     "duration": 0.011613,
     "end_time": "2022-08-13T19:12:10.561562",
     "exception": false,
     "start_time": "2022-08-13T19:12:10.549949",
     "status": "completed"
    },
    "tags": []
   },
   "source": [
    "We can see  are there only those three rows which are having missing duration values so we can simply transfer all the rating colomun values to duration colomun from a rows which are having director Louis C.K. and check our conversion is done or not."
   ]
  },
  {
   "cell_type": "code",
   "execution_count": 17,
   "id": "9d5c3f6e",
   "metadata": {
    "execution": {
     "iopub.execute_input": "2022-08-13T19:12:10.587528Z",
     "iopub.status.busy": "2022-08-13T19:12:10.586755Z",
     "iopub.status.idle": "2022-08-13T19:12:10.608820Z",
     "shell.execute_reply": "2022-08-13T19:12:10.607705Z"
    },
    "papermill": {
     "duration": 0.037344,
     "end_time": "2022-08-13T19:12:10.610851",
     "exception": false,
     "start_time": "2022-08-13T19:12:10.573507",
     "status": "completed"
    },
    "tags": []
   },
   "outputs": [
    {
     "data": {
      "text/html": [
       "<div>\n",
       "<style scoped>\n",
       "    .dataframe tbody tr th:only-of-type {\n",
       "        vertical-align: middle;\n",
       "    }\n",
       "\n",
       "    .dataframe tbody tr th {\n",
       "        vertical-align: top;\n",
       "    }\n",
       "\n",
       "    .dataframe thead th {\n",
       "        text-align: right;\n",
       "    }\n",
       "</style>\n",
       "<table border=\"1\" class=\"dataframe\">\n",
       "  <thead>\n",
       "    <tr style=\"text-align: right;\">\n",
       "      <th></th>\n",
       "      <th>show_id</th>\n",
       "      <th>type</th>\n",
       "      <th>title</th>\n",
       "      <th>director</th>\n",
       "      <th>cast</th>\n",
       "      <th>country</th>\n",
       "      <th>date_added</th>\n",
       "      <th>release_year</th>\n",
       "      <th>rating</th>\n",
       "      <th>duration</th>\n",
       "      <th>listed_in</th>\n",
       "      <th>description</th>\n",
       "    </tr>\n",
       "  </thead>\n",
       "  <tbody>\n",
       "    <tr>\n",
       "      <th>5541</th>\n",
       "      <td>s5542</td>\n",
       "      <td>Movie</td>\n",
       "      <td>Louis C.K. 2017</td>\n",
       "      <td>Louis C.K.</td>\n",
       "      <td>Louis C.K.</td>\n",
       "      <td>United States</td>\n",
       "      <td>2017-04-04</td>\n",
       "      <td>2017</td>\n",
       "      <td>74 min</td>\n",
       "      <td>74 min</td>\n",
       "      <td>Movies</td>\n",
       "      <td>Louis C.K. muses on religion, eternal love, gi...</td>\n",
       "    </tr>\n",
       "    <tr>\n",
       "      <th>5794</th>\n",
       "      <td>s5795</td>\n",
       "      <td>Movie</td>\n",
       "      <td>Louis C.K.: Hilarious</td>\n",
       "      <td>Louis C.K.</td>\n",
       "      <td>Louis C.K.</td>\n",
       "      <td>United States</td>\n",
       "      <td>2016-09-16</td>\n",
       "      <td>2010</td>\n",
       "      <td>84 min</td>\n",
       "      <td>84 min</td>\n",
       "      <td>Movies</td>\n",
       "      <td>Emmy-winning comedy writer Louis C.K. brings h...</td>\n",
       "    </tr>\n",
       "    <tr>\n",
       "      <th>5813</th>\n",
       "      <td>s5814</td>\n",
       "      <td>Movie</td>\n",
       "      <td>Louis C.K.: Live at the Comedy Store</td>\n",
       "      <td>Louis C.K.</td>\n",
       "      <td>Louis C.K.</td>\n",
       "      <td>United States</td>\n",
       "      <td>2016-08-15</td>\n",
       "      <td>2015</td>\n",
       "      <td>66 min</td>\n",
       "      <td>66 min</td>\n",
       "      <td>Movies</td>\n",
       "      <td>The comic puts his trademark hilarious/thought...</td>\n",
       "    </tr>\n",
       "  </tbody>\n",
       "</table>\n",
       "</div>"
      ],
      "text/plain": [
       "     show_id   type                                 title    director  \\\n",
       "5541   s5542  Movie                       Louis C.K. 2017  Louis C.K.   \n",
       "5794   s5795  Movie                 Louis C.K.: Hilarious  Louis C.K.   \n",
       "5813   s5814  Movie  Louis C.K.: Live at the Comedy Store  Louis C.K.   \n",
       "\n",
       "            cast        country date_added  release_year  rating duration  \\\n",
       "5541  Louis C.K.  United States 2017-04-04          2017  74 min   74 min   \n",
       "5794  Louis C.K.  United States 2016-09-16          2010  84 min   84 min   \n",
       "5813  Louis C.K.  United States 2016-08-15          2015  66 min   66 min   \n",
       "\n",
       "     listed_in                                        description  \n",
       "5541    Movies  Louis C.K. muses on religion, eternal love, gi...  \n",
       "5794    Movies  Emmy-winning comedy writer Louis C.K. brings h...  \n",
       "5813    Movies  The comic puts his trademark hilarious/thought...  "
      ]
     },
     "execution_count": 17,
     "metadata": {},
     "output_type": "execute_result"
    }
   ],
   "source": [
    "#loc function is used to access the colomun by name\n",
    "df.loc[df['director'] == 'Louis C.K.','duration'] = df['rating']\n",
    "df[df.director == 'Louis C.K.'].head()"
   ]
  },
  {
   "cell_type": "markdown",
   "id": "7a441204",
   "metadata": {
    "papermill": {
     "duration": 0.011815,
     "end_time": "2022-08-13T19:12:10.635113",
     "exception": false,
     "start_time": "2022-08-13T19:12:10.623298",
     "status": "completed"
    },
    "tags": []
   },
   "source": [
    "As we can clearly see that we have all the values copied from rating colomun to duration colomun\n",
    "Now we will make all these rating value to \"unavailable\"."
   ]
  },
  {
   "cell_type": "code",
   "execution_count": 18,
   "id": "e2bebb47",
   "metadata": {
    "execution": {
     "iopub.execute_input": "2022-08-13T19:12:10.660871Z",
     "iopub.status.busy": "2022-08-13T19:12:10.660513Z",
     "iopub.status.idle": "2022-08-13T19:12:10.680285Z",
     "shell.execute_reply": "2022-08-13T19:12:10.679159Z"
    },
    "papermill": {
     "duration": 0.035387,
     "end_time": "2022-08-13T19:12:10.682535",
     "exception": false,
     "start_time": "2022-08-13T19:12:10.647148",
     "status": "completed"
    },
    "tags": []
   },
   "outputs": [
    {
     "data": {
      "text/html": [
       "<div>\n",
       "<style scoped>\n",
       "    .dataframe tbody tr th:only-of-type {\n",
       "        vertical-align: middle;\n",
       "    }\n",
       "\n",
       "    .dataframe tbody tr th {\n",
       "        vertical-align: top;\n",
       "    }\n",
       "\n",
       "    .dataframe thead th {\n",
       "        text-align: right;\n",
       "    }\n",
       "</style>\n",
       "<table border=\"1\" class=\"dataframe\">\n",
       "  <thead>\n",
       "    <tr style=\"text-align: right;\">\n",
       "      <th></th>\n",
       "      <th>show_id</th>\n",
       "      <th>type</th>\n",
       "      <th>title</th>\n",
       "      <th>director</th>\n",
       "      <th>cast</th>\n",
       "      <th>country</th>\n",
       "      <th>date_added</th>\n",
       "      <th>release_year</th>\n",
       "      <th>rating</th>\n",
       "      <th>duration</th>\n",
       "      <th>listed_in</th>\n",
       "      <th>description</th>\n",
       "    </tr>\n",
       "  </thead>\n",
       "  <tbody>\n",
       "    <tr>\n",
       "      <th>5541</th>\n",
       "      <td>s5542</td>\n",
       "      <td>Movie</td>\n",
       "      <td>Louis C.K. 2017</td>\n",
       "      <td>Louis C.K.</td>\n",
       "      <td>Louis C.K.</td>\n",
       "      <td>United States</td>\n",
       "      <td>2017-04-04</td>\n",
       "      <td>2017</td>\n",
       "      <td>Unavailable</td>\n",
       "      <td>74 min</td>\n",
       "      <td>Movies</td>\n",
       "      <td>Louis C.K. muses on religion, eternal love, gi...</td>\n",
       "    </tr>\n",
       "    <tr>\n",
       "      <th>5794</th>\n",
       "      <td>s5795</td>\n",
       "      <td>Movie</td>\n",
       "      <td>Louis C.K.: Hilarious</td>\n",
       "      <td>Louis C.K.</td>\n",
       "      <td>Louis C.K.</td>\n",
       "      <td>United States</td>\n",
       "      <td>2016-09-16</td>\n",
       "      <td>2010</td>\n",
       "      <td>Unavailable</td>\n",
       "      <td>84 min</td>\n",
       "      <td>Movies</td>\n",
       "      <td>Emmy-winning comedy writer Louis C.K. brings h...</td>\n",
       "    </tr>\n",
       "    <tr>\n",
       "      <th>5813</th>\n",
       "      <td>s5814</td>\n",
       "      <td>Movie</td>\n",
       "      <td>Louis C.K.: Live at the Comedy Store</td>\n",
       "      <td>Louis C.K.</td>\n",
       "      <td>Louis C.K.</td>\n",
       "      <td>United States</td>\n",
       "      <td>2016-08-15</td>\n",
       "      <td>2015</td>\n",
       "      <td>Unavailable</td>\n",
       "      <td>66 min</td>\n",
       "      <td>Movies</td>\n",
       "      <td>The comic puts his trademark hilarious/thought...</td>\n",
       "    </tr>\n",
       "  </tbody>\n",
       "</table>\n",
       "</div>"
      ],
      "text/plain": [
       "     show_id   type                                 title    director  \\\n",
       "5541   s5542  Movie                       Louis C.K. 2017  Louis C.K.   \n",
       "5794   s5795  Movie                 Louis C.K.: Hilarious  Louis C.K.   \n",
       "5813   s5814  Movie  Louis C.K.: Live at the Comedy Store  Louis C.K.   \n",
       "\n",
       "            cast        country date_added  release_year       rating  \\\n",
       "5541  Louis C.K.  United States 2017-04-04          2017  Unavailable   \n",
       "5794  Louis C.K.  United States 2016-09-16          2010  Unavailable   \n",
       "5813  Louis C.K.  United States 2016-08-15          2015  Unavailable   \n",
       "\n",
       "     duration listed_in                                        description  \n",
       "5541   74 min    Movies  Louis C.K. muses on religion, eternal love, gi...  \n",
       "5794   84 min    Movies  Emmy-winning comedy writer Louis C.K. brings h...  \n",
       "5813   66 min    Movies  The comic puts his trademark hilarious/thought...  "
      ]
     },
     "execution_count": 18,
     "metadata": {},
     "output_type": "execute_result"
    }
   ],
   "source": [
    "df.loc[df['director']=='Louis C.K.','rating'] = 'Unavailable'\n",
    "df[df.director == 'Louis C.K.'].head()"
   ]
  },
  {
   "cell_type": "markdown",
   "id": "205c4c3a",
   "metadata": {
    "papermill": {
     "duration": 0.012083,
     "end_time": "2022-08-13T19:12:10.707008",
     "exception": false,
     "start_time": "2022-08-13T19:12:10.694925",
     "status": "completed"
    },
    "tags": []
   },
   "source": [
    "Now we can see in rating we have \"unavailable\" in duration we have our values.\n",
    "Now we have fixed our data types of all variables and we have fixed all our varibaled now its time to do some exploratory analysis."
   ]
  },
  {
   "cell_type": "markdown",
   "id": "2f9d8b79",
   "metadata": {
    "papermill": {
     "duration": 0.011999,
     "end_time": "2022-08-13T19:12:10.731237",
     "exception": false,
     "start_time": "2022-08-13T19:12:10.719238",
     "status": "completed"
    },
    "tags": []
   },
   "source": [
    "# Exploratory data analysis "
   ]
  },
  {
   "cell_type": "markdown",
   "id": "cc3834b4",
   "metadata": {
    "papermill": {
     "duration": 0.012071,
     "end_time": "2022-08-13T19:12:10.755722",
     "exception": false,
     "start_time": "2022-08-13T19:12:10.743651",
     "status": "completed"
    },
    "tags": []
   },
   "source": [
    "So first we will counts diffrent types of catagories of our data"
   ]
  },
  {
   "cell_type": "code",
   "execution_count": 19,
   "id": "e864ebd8",
   "metadata": {
    "execution": {
     "iopub.execute_input": "2022-08-13T19:12:10.782698Z",
     "iopub.status.busy": "2022-08-13T19:12:10.782316Z",
     "iopub.status.idle": "2022-08-13T19:12:10.791007Z",
     "shell.execute_reply": "2022-08-13T19:12:10.789961Z"
    },
    "papermill": {
     "duration": 0.025053,
     "end_time": "2022-08-13T19:12:10.793235",
     "exception": false,
     "start_time": "2022-08-13T19:12:10.768182",
     "status": "completed"
    },
    "tags": []
   },
   "outputs": [
    {
     "data": {
      "text/plain": [
       "Movie      6131\n",
       "TV Show    2666\n",
       "Name: type, dtype: int64"
      ]
     },
     "execution_count": 19,
     "metadata": {},
     "output_type": "execute_result"
    }
   ],
   "source": [
    "df.type.value_counts() #counting diffrent catagories in a given colomun"
   ]
  },
  {
   "cell_type": "markdown",
   "id": "19c6b8f1",
   "metadata": {
    "papermill": {
     "duration": 0.012414,
     "end_time": "2022-08-13T19:12:10.818949",
     "exception": false,
     "start_time": "2022-08-13T19:12:10.806535",
     "status": "completed"
    },
    "tags": []
   },
   "source": [
    "So there are two types of catagories of our data Movie and TV Show. Now we will visualize it on a bar plot to see more clearly which "
   ]
  },
  {
   "cell_type": "code",
   "execution_count": 20,
   "id": "165f7170",
   "metadata": {
    "execution": {
     "iopub.execute_input": "2022-08-13T19:12:10.845829Z",
     "iopub.status.busy": "2022-08-13T19:12:10.845437Z",
     "iopub.status.idle": "2022-08-13T19:12:11.064333Z",
     "shell.execute_reply": "2022-08-13T19:12:11.063150Z"
    },
    "papermill": {
     "duration": 0.235455,
     "end_time": "2022-08-13T19:12:11.066846",
     "exception": false,
     "start_time": "2022-08-13T19:12:10.831391",
     "status": "completed"
    },
    "tags": []
   },
   "outputs": [
    {
     "data": {
      "image/png": "[encoded data removed]",
      "text/plain": [
       "<Figure size 720x360 with 1 Axes>"
      ]
     },
     "metadata": {
      "needs_background": "light"
     },
     "output_type": "display_data"
    }
   ],
   "source": [
    "#countplot helps us to plot count of each catagory\n",
    "\n",
    "plt.figure(figsize =(10,5))\n",
    "plt.title('count vs type of shows')\n",
    "sns.countplot(data = df, x ='type');\n"
   ]
  },
  {
   "cell_type": "code",
   "execution_count": 21,
   "id": "e83402c4",
   "metadata": {
    "execution": {
     "iopub.execute_input": "2022-08-13T19:12:11.095856Z",
     "iopub.status.busy": "2022-08-13T19:12:11.094682Z",
     "iopub.status.idle": "2022-08-13T19:12:11.212818Z",
     "shell.execute_reply": "2022-08-13T19:12:11.211486Z"
    },
    "papermill": {
     "duration": 0.136858,
     "end_time": "2022-08-13T19:12:11.217276",
     "exception": false,
     "start_time": "2022-08-13T19:12:11.080418",
     "status": "completed"
    },
    "tags": []
   },
   "outputs": [
    {
     "data": {
      "image/png": "[encoded data removed]",
      "text/plain": [
       "<Figure size 432x288 with 1 Axes>"
      ]
     },
     "metadata": {},
     "output_type": "display_data"
    }
   ],
   "source": [
    "Type = ['Movie','TV Show']\n",
    "exp = (0.1,0)\n",
    "c = ['red','green']\n",
    "sizes = df.type.value_counts()\n",
    "plt.pie(sizes , labels = Type, explode = exp , autopct = '%.2f%%',colors = c,shadow =True)\n",
    "plt.show()\n",
    "    "
   ]
  },
  {
   "cell_type": "markdown",
   "id": "0f9c38a1",
   "metadata": {
    "papermill": {
     "duration": 0.033259,
     "end_time": "2022-08-13T19:12:11.283900",
     "exception": false,
     "start_time": "2022-08-13T19:12:11.250641",
     "status": "completed"
    },
    "tags": []
   },
   "source": [
    "Country Analysis"
   ]
  },
  {
   "cell_type": "code",
   "execution_count": 22,
   "id": "56659b72",
   "metadata": {
    "execution": {
     "iopub.execute_input": "2022-08-13T19:12:11.327002Z",
     "iopub.status.busy": "2022-08-13T19:12:11.326044Z",
     "iopub.status.idle": "2022-08-13T19:12:11.338605Z",
     "shell.execute_reply": "2022-08-13T19:12:11.337163Z"
    },
    "papermill": {
     "duration": 0.032351,
     "end_time": "2022-08-13T19:12:11.341709",
     "exception": false,
     "start_time": "2022-08-13T19:12:11.309358",
     "status": "completed"
    },
    "tags": []
   },
   "outputs": [
    {
     "data": {
      "text/plain": [
       "United States     2812\n",
       "India              972\n",
       "unavailavle        830\n",
       "United Kingdom     418\n",
       "Japan              244\n",
       "South Korea        199\n",
       "Canada             181\n",
       "Spain              145\n",
       "France             124\n",
       "Mexico             110\n",
       "Name: country, dtype: int64"
      ]
     },
     "execution_count": 22,
     "metadata": {},
     "output_type": "execute_result"
    }
   ],
   "source": [
    "df['country'].value_counts().head(10)"
   ]
  },
  {
   "cell_type": "code",
   "execution_count": 23,
   "id": "92305026",
   "metadata": {
    "execution": {
     "iopub.execute_input": "2022-08-13T19:12:11.384511Z",
     "iopub.status.busy": "2022-08-13T19:12:11.383537Z",
     "iopub.status.idle": "2022-08-13T19:12:11.639666Z",
     "shell.execute_reply": "2022-08-13T19:12:11.638395Z"
    },
    "papermill": {
     "duration": 0.277413,
     "end_time": "2022-08-13T19:12:11.642069",
     "exception": false,
     "start_time": "2022-08-13T19:12:11.364656",
     "status": "completed"
    },
    "tags": []
   },
   "outputs": [
    {
     "data": {
      "text/plain": [
       "Text(0.5, 1.0, 'country wise content on netflix')"
      ]
     },
     "execution_count": 23,
     "metadata": {},
     "output_type": "execute_result"
    },
    {
     "data": {
      "image/png": "[encoded data removed]",
      "text/plain": [
       "<Figure size 864x432 with 1 Axes>"
      ]
     },
     "metadata": {
      "needs_background": "light"
     },
     "output_type": "display_data"
    }
   ],
   "source": [
    "plt.figure(figsize = (12,6))\n",
    "sns.countplot(y = 'country',order = df['country'].value_counts().index[0:10],data = df)\n",
    "plt.title('country wise content on netflix')"
   ]
  },
  {
   "cell_type": "code",
   "execution_count": 24,
   "id": "0e6de416",
   "metadata": {
    "execution": {
     "iopub.execute_input": "2022-08-13T19:12:11.671338Z",
     "iopub.status.busy": "2022-08-13T19:12:11.670775Z",
     "iopub.status.idle": "2022-08-13T19:12:11.680849Z",
     "shell.execute_reply": "2022-08-13T19:12:11.679910Z"
    },
    "papermill": {
     "duration": 0.027423,
     "end_time": "2022-08-13T19:12:11.683174",
     "exception": false,
     "start_time": "2022-08-13T19:12:11.655751",
     "status": "completed"
    },
    "tags": []
   },
   "outputs": [],
   "source": [
    "#now checking type of content based on country\n",
    "movie_country = df[df['type'] =='Movie']\n",
    "tv_show_country = df[df['type'] == 'TV Show']"
   ]
  },
  {
   "cell_type": "code",
   "execution_count": 25,
   "id": "156dc545",
   "metadata": {
    "execution": {
     "iopub.execute_input": "2022-08-13T19:12:11.712269Z",
     "iopub.status.busy": "2022-08-13T19:12:11.711830Z",
     "iopub.status.idle": "2022-08-13T19:12:12.209948Z",
     "shell.execute_reply": "2022-08-13T19:12:12.208901Z"
    },
    "papermill": {
     "duration": 0.515551,
     "end_time": "2022-08-13T19:12:12.212385",
     "exception": false,
     "start_time": "2022-08-13T19:12:11.696834",
     "status": "completed"
    },
    "tags": []
   },
   "outputs": [
    {
     "data": {
      "text/plain": [
       "Text(0.5, 1.0, 'Top 10 countries producing tv shows on netflix')"
      ]
     },
     "execution_count": 25,
     "metadata": {},
     "output_type": "execute_result"
    },
    {
     "data": {
      "image/png": "[encoded data removed]",
      "text/plain": [
       "<Figure size 864x432 with 1 Axes>"
      ]
     },
     "metadata": {
      "needs_background": "light"
     },
     "output_type": "display_data"
    },
    {
     "data": {
      "image/png": "[encoded data removed]",
      "text/plain": [
       "<Figure size 864x432 with 1 Axes>"
      ]
     },
     "metadata": {
      "needs_background": "light"
     },
     "output_type": "display_data"
    }
   ],
   "source": [
    "plt.figure(figsize = (12,6))\n",
    "sns.countplot(y = 'country',order = df['country'].value_counts().index[0:10],data = movie_country )\n",
    "plt.title('Top 10 countries producing movie on netflix')\n",
    "\n",
    "\n",
    "plt.figure(figsize = (12,6))\n",
    "sns.countplot(y = 'country',order = df['country'].value_counts().index[0:10],data =tv_show_country)\n",
    "plt.title ('Top 10 countries producing tv shows on netflix')\n",
    "\n"
   ]
  },
  {
   "cell_type": "code",
   "execution_count": 26,
   "id": "eebf0272",
   "metadata": {
    "execution": {
     "iopub.execute_input": "2022-08-13T19:12:12.243114Z",
     "iopub.status.busy": "2022-08-13T19:12:12.242718Z",
     "iopub.status.idle": "2022-08-13T19:12:12.251614Z",
     "shell.execute_reply": "2022-08-13T19:12:12.250617Z"
    },
    "papermill": {
     "duration": 0.026745,
     "end_time": "2022-08-13T19:12:12.253781",
     "exception": false,
     "start_time": "2022-08-13T19:12:12.227036",
     "status": "completed"
    },
    "tags": []
   },
   "outputs": [
    {
     "data": {
      "text/plain": [
       "TV-MA    3205\n",
       "TV-14    2157\n",
       "TV-PG     861\n",
       "R         799\n",
       "PG-13     490\n",
       "TV-Y7     333\n",
       "TV-Y      306\n",
       "PG        287\n",
       "TV-G      220\n",
       "NR         79\n",
       "Name: rating, dtype: int64"
      ]
     },
     "execution_count": 26,
     "metadata": {},
     "output_type": "execute_result"
    }
   ],
   "source": [
    "#major ratings given to netflix shows\n",
    "df['rating'].value_counts().head(10)"
   ]
  },
  {
   "cell_type": "code",
   "execution_count": 27,
   "id": "21a8cfe1",
   "metadata": {
    "execution": {
     "iopub.execute_input": "2022-08-13T19:12:12.284504Z",
     "iopub.status.busy": "2022-08-13T19:12:12.283780Z",
     "iopub.status.idle": "2022-08-13T19:12:12.521876Z",
     "shell.execute_reply": "2022-08-13T19:12:12.520993Z"
    },
    "papermill": {
     "duration": 0.256212,
     "end_time": "2022-08-13T19:12:12.524474",
     "exception": false,
     "start_time": "2022-08-13T19:12:12.268262",
     "status": "completed"
    },
    "tags": []
   },
   "outputs": [
    {
     "data": {
      "text/plain": [
       "Text(0.5, 1.0, 'rating of shows on netflix vs counts')"
      ]
     },
     "execution_count": 27,
     "metadata": {},
     "output_type": "execute_result"
    },
    {
     "data": {
      "image/png": "[encoded data removed]",
      "text/plain": [
       "<Figure size 864x432 with 1 Axes>"
      ]
     },
     "metadata": {
      "needs_background": "light"
     },
     "output_type": "display_data"
    }
   ],
   "source": [
    "#visualizing ratings\n",
    "plt.figure(figsize = (12,6))\n",
    "sns.countplot(x = 'rating' , order = df['rating'].value_counts().index[0:10],data = df)\n",
    "plt.title('rating of shows on netflix vs counts')\n",
    "              "
   ]
  },
  {
   "cell_type": "code",
   "execution_count": 28,
   "id": "992e27f4",
   "metadata": {
    "execution": {
     "iopub.execute_input": "2022-08-13T19:12:12.558293Z",
     "iopub.status.busy": "2022-08-13T19:12:12.557189Z",
     "iopub.status.idle": "2022-08-13T19:12:12.565015Z",
     "shell.execute_reply": "2022-08-13T19:12:12.564270Z"
    },
    "papermill": {
     "duration": 0.026355,
     "end_time": "2022-08-13T19:12:12.566989",
     "exception": false,
     "start_time": "2022-08-13T19:12:12.540634",
     "status": "completed"
    },
    "tags": []
   },
   "outputs": [
    {
     "data": {
      "text/plain": [
       "2018    1146\n",
       "2017    1032\n",
       "2019    1030\n",
       "2020     953\n",
       "2016     901\n",
       "2021     592\n",
       "2015     558\n",
       "2014     352\n",
       "2013     287\n",
       "2012     236\n",
       "2010     193\n",
       "2011     185\n",
       "2009     152\n",
       "2008     135\n",
       "2006      96\n",
       "2007      88\n",
       "2005      80\n",
       "2004      64\n",
       "2003      59\n",
       "2002      51\n",
       "Name: release_year, dtype: int64"
      ]
     },
     "execution_count": 28,
     "metadata": {},
     "output_type": "execute_result"
    }
   ],
   "source": [
    "#in which year netflix has produced more content\n",
    "\n",
    "df['release_year'].value_counts().head(20)"
   ]
  },
  {
   "cell_type": "code",
   "execution_count": 29,
   "id": "4df7a50b",
   "metadata": {
    "execution": {
     "iopub.execute_input": "2022-08-13T19:12:12.599138Z",
     "iopub.status.busy": "2022-08-13T19:12:12.598462Z",
     "iopub.status.idle": "2022-08-13T19:12:12.835291Z",
     "shell.execute_reply": "2022-08-13T19:12:12.834167Z"
    },
    "papermill": {
     "duration": 0.255763,
     "end_time": "2022-08-13T19:12:12.837821",
     "exception": false,
     "start_time": "2022-08-13T19:12:12.582058",
     "status": "completed"
    },
    "tags": []
   },
   "outputs": [
    {
     "data": {
      "text/plain": [
       "Text(0.5, 1.0, 'content release in years on netflix')"
      ]
     },
     "execution_count": 29,
     "metadata": {},
     "output_type": "execute_result"
    },
    {
     "data": {
      "image/png": "[encoded data removed]",
      "text/plain": [
       "<Figure size 864x432 with 1 Axes>"
      ]
     },
     "metadata": {
      "needs_background": "light"
     },
     "output_type": "display_data"
    }
   ],
   "source": [
    "plt.figure(figsize = (12,6))\n",
    "sns.countplot(x='release_year',order = df['release_year'].value_counts().index[0:10],data = df)\n",
    "plt.title('content release in years on netflix')"
   ]
  },
  {
   "cell_type": "code",
   "execution_count": 30,
   "id": "8af7c332",
   "metadata": {
    "execution": {
     "iopub.execute_input": "2022-08-13T19:12:12.872404Z",
     "iopub.status.busy": "2022-08-13T19:12:12.871301Z",
     "iopub.status.idle": "2022-08-13T19:12:13.238523Z",
     "shell.execute_reply": "2022-08-13T19:12:13.237679Z"
    },
    "papermill": {
     "duration": 0.386466,
     "end_time": "2022-08-13T19:12:13.240774",
     "exception": false,
     "start_time": "2022-08-13T19:12:12.854308",
     "status": "completed"
    },
    "tags": []
   },
   "outputs": [
    {
     "data": {
      "text/plain": [
       "Text(0.5, 1.0, 'Top 20 Genres on netflix')"
      ]
     },
     "execution_count": 30,
     "metadata": {},
     "output_type": "execute_result"
    },
    {
     "data": {
      "image/png": "[encoded data removed]",
      "text/plain": [
       "<Figure size 1080x648 with 1 Axes>"
      ]
     },
     "metadata": {
      "needs_background": "light"
     },
     "output_type": "display_data"
    }
   ],
   "source": [
    "#popular genres Analysis\n",
    "\n",
    "plt.figure(figsize = (15,9))\n",
    "sns.countplot(x='listed_in',order = df['listed_in'].value_counts().index[0:20],data = df)\n",
    "plt.title('Top 20 Genres on netflix')\n",
    "\n"
   ]
  }
 ],
 "metadata": {
  "kernelspec": {
   "display_name": "Python 3",
   "language": "python",
   "name": "python3"
  },
  "language_info": {
   "codemirror_mode": {
    "name": "ipython",
    "version": 3
   },
   "file_extension": ".py",
   "mimetype": "text/x-python",
   "name": "python",
   "nbconvert_exporter": "python",
   "pygments_lexer": "ipython3",
   "version": "3.7.12"
  },
  "papermill": {
   "default_parameters": {},
   "duration": 14.589176,
   "end_time": "2022-08-13T19:12:13.980743",
   "environment_variables": {},
   "exception": null,
   "input_path": "__notebook__.ipynb",
   "output_path": "__notebook__.ipynb",
   "parameters": {},
   "start_time": "2022-08-13T19:11:59.391567",
   "version": "2.3.4"
  }
 },
 "nbformat": 4,
 "nbformat_minor": 5
}
